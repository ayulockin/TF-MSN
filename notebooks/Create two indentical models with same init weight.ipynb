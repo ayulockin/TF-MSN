{
 "cells": [
  {
   "cell_type": "code",
   "execution_count": 1,
   "id": "95c5bfb3",
   "metadata": {},
   "outputs": [],
   "source": [
    "import os\n",
    "os.environ['TF_CPP_MIN_LOG_LEVEL'] = '3'\n",
    "\n",
    "import numpy as np\n",
    "import tensorflow as tf\n",
    "from tensorflow.keras import layers\n",
    "from tensorflow.keras import models"
   ]
  },
  {
   "cell_type": "markdown",
   "id": "ef3be049",
   "metadata": {},
   "source": [
    "In the official implementation of MSN the encoder and target model have initial state:\n",
    "\n",
    "```\n",
    "    # -- init model\n",
    "    encoder = init_model(\n",
    "        device=device,\n",
    "        model_name=model_name,\n",
    "        two_layer=two_layer,\n",
    "        use_pred=use_pred_head,\n",
    "        use_bn=use_bn,\n",
    "        bottleneck=bottleneck,\n",
    "        hidden_dim=hidden_dim,\n",
    "        output_dim=output_dim,\n",
    "        drop_path_rate=drop_path_rate,\n",
    "    )\n",
    "    # Target model is a deepcopy of the encoder model.\n",
    "    target_encoder = copy.deepcopy(encoder)\n",
    "```\n",
    "\n",
    "The use of deepcopy is enabling it. In this notebook we are exploring the best way to reproduce this in TensorFlow."
   ]
  },
  {
   "cell_type": "code",
   "execution_count": 6,
   "id": "e1baafa2",
   "metadata": {},
   "outputs": [],
   "source": [
    "def get_model():\n",
    "    inputs = layers.Input(shape=(3,))\n",
    "    x = layers.Dense(3, activation=\"gelu\")(inputs)\n",
    "    outputs = layers.Dense(3, activation=\"sigmoid\")(x)\n",
    "    \n",
    "    return models.Model(inputs, outputs)"
   ]
  },
  {
   "cell_type": "code",
   "execution_count": 7,
   "id": "dedf60b2",
   "metadata": {},
   "outputs": [
    {
     "name": "stdout",
     "output_type": "stream",
     "text": [
      "Model: \"model\"\n",
      "_________________________________________________________________\n",
      " Layer (type)                Output Shape              Param #   \n",
      "=================================================================\n",
      " input_1 (InputLayer)        [(None, 3)]               0         \n",
      "                                                                 \n",
      " dense (Dense)               (None, 3)                 12        \n",
      "                                                                 \n",
      " dense_1 (Dense)             (None, 3)                 12        \n",
      "                                                                 \n",
      "=================================================================\n",
      "Total params: 24\n",
      "Trainable params: 24\n",
      "Non-trainable params: 0\n",
      "_________________________________________________________________\n"
     ]
    }
   ],
   "source": [
    "tf.keras.backend.clear_session()\n",
    "model = get_model()\n",
    "model.summary()"
   ]
  },
  {
   "cell_type": "markdown",
   "id": "cead73cc",
   "metadata": {},
   "source": [
    "This is how we copy model to a new model with same initial weights. Note that the optimizer state will not be copied (but it's not important for our usecase). \n",
    "\n",
    "Reference: https://github.com/keras-team/keras/issues/1765#issuecomment-367235276"
   ]
  },
  {
   "cell_type": "code",
   "execution_count": 12,
   "id": "a4148afa",
   "metadata": {},
   "outputs": [],
   "source": [
    "model_copy = tf.keras.models.clone_model(model)\n",
    "model_copy.set_weights(model.get_weights())"
   ]
  },
  {
   "cell_type": "code",
   "execution_count": 13,
   "id": "012c41eb",
   "metadata": {},
   "outputs": [
    {
     "data": {
      "text/plain": [
       "[array([[ 0.5376537 ,  0.51263   , -0.35281944],\n",
       "        [-0.20083904, -0.52574396, -0.70703864],\n",
       "        [ 0.66147375, -0.31244206,  0.32125545]], dtype=float32),\n",
       " array([0., 0., 0.], dtype=float32),\n",
       " array([[ 0.92110085, -0.6732621 ,  0.42984366],\n",
       "        [ 0.4803393 ,  0.31643176, -0.06728935],\n",
       "        [ 0.9882252 ,  0.03659225, -0.36137056]], dtype=float32),\n",
       " array([0., 0., 0.], dtype=float32)]"
      ]
     },
     "execution_count": 13,
     "metadata": {},
     "output_type": "execute_result"
    }
   ],
   "source": [
    "model.get_weights()"
   ]
  },
  {
   "cell_type": "code",
   "execution_count": 14,
   "id": "8651bff4",
   "metadata": {},
   "outputs": [
    {
     "data": {
      "text/plain": [
       "[array([[ 0.5376537 ,  0.51263   , -0.35281944],\n",
       "        [-0.20083904, -0.52574396, -0.70703864],\n",
       "        [ 0.66147375, -0.31244206,  0.32125545]], dtype=float32),\n",
       " array([0., 0., 0.], dtype=float32),\n",
       " array([[ 0.92110085, -0.6732621 ,  0.42984366],\n",
       "        [ 0.4803393 ,  0.31643176, -0.06728935],\n",
       "        [ 0.9882252 ,  0.03659225, -0.36137056]], dtype=float32),\n",
       " array([0., 0., 0.], dtype=float32)]"
      ]
     },
     "execution_count": 14,
     "metadata": {},
     "output_type": "execute_result"
    }
   ],
   "source": [
    "model_copy.get_weights()"
   ]
  },
  {
   "cell_type": "code",
   "execution_count": 19,
   "id": "163014ae",
   "metadata": {},
   "outputs": [
    {
     "name": "stdout",
     "output_type": "stream",
     "text": [
      "True\n",
      "True\n",
      "True\n",
      "True\n"
     ]
    }
   ],
   "source": [
    "for w, w_copy in zip(model.get_weights(), model_copy.get_weights()):\n",
    "    print(np.array_equal(w, w_copy))"
   ]
  }
 ],
 "metadata": {
  "kernelspec": {
   "display_name": "Python 3 (ipykernel)",
   "language": "python",
   "name": "python3"
  },
  "language_info": {
   "codemirror_mode": {
    "name": "ipython",
    "version": 3
   },
   "file_extension": ".py",
   "mimetype": "text/x-python",
   "name": "python",
   "nbconvert_exporter": "python",
   "pygments_lexer": "ipython3",
   "version": "3.9.13"
  }
 },
 "nbformat": 4,
 "nbformat_minor": 5
}
