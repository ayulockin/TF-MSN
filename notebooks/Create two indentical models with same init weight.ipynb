{
 "cells": [
  {
   "cell_type": "code",
   "execution_count": 1,
   "id": "95c5bfb3",
   "metadata": {},
   "outputs": [],
   "source": [
    "import os\n",
    "os.environ['TF_CPP_MIN_LOG_LEVEL'] = '3'\n",
    "\n",
    "import numpy as np\n",
    "import tensorflow as tf\n",
    "from tensorflow.keras import layers\n",
    "from tensorflow.keras import models"
   ]
  },
  {
   "cell_type": "markdown",
   "id": "ef3be049",
   "metadata": {},
   "source": [
    "In the official implementation of MSN the encoder and target model have initial state:\n",
    "\n",
    "```\n",
    "    # -- init model\n",
    "    encoder = init_model(\n",
    "        device=device,\n",
    "        model_name=model_name,\n",
    "        two_layer=two_layer,\n",
    "        use_pred=use_pred_head,\n",
    "        use_bn=use_bn,\n",
    "        bottleneck=bottleneck,\n",
    "        hidden_dim=hidden_dim,\n",
    "        output_dim=output_dim,\n",
    "        drop_path_rate=drop_path_rate,\n",
    "    )\n",
    "    # Target model is a deepcopy of the encoder model.\n",
    "    target_encoder = copy.deepcopy(encoder)\n",
    "```\n",
    "\n",
    "The use of deepcopy is enabling it. In this notebook we are exploring the best way to reproduce this in TensorFlow."
   ]
  },
  {
   "cell_type": "code",
   "execution_count": 2,
   "id": "e1baafa2",
   "metadata": {},
   "outputs": [],
   "source": [
    "def get_model():\n",
    "    inputs = layers.Input(shape=(3,))\n",
    "    x = layers.Dense(3, activation=\"gelu\")(inputs)\n",
    "    outputs = layers.Dense(3, activation=\"sigmoid\")(x)\n",
    "    \n",
    "    return models.Model(inputs, outputs)"
   ]
  },
  {
   "cell_type": "code",
   "execution_count": 3,
   "id": "dedf60b2",
   "metadata": {},
   "outputs": [
    {
     "name": "stdout",
     "output_type": "stream",
     "text": [
      "Model: \"model\"\n",
      "_________________________________________________________________\n",
      " Layer (type)                Output Shape              Param #   \n",
      "=================================================================\n",
      " input_1 (InputLayer)        [(None, 3)]               0         \n",
      "                                                                 \n",
      " dense (Dense)               (None, 3)                 12        \n",
      "                                                                 \n",
      " dense_1 (Dense)             (None, 3)                 12        \n",
      "                                                                 \n",
      "=================================================================\n",
      "Total params: 24\n",
      "Trainable params: 24\n",
      "Non-trainable params: 0\n",
      "_________________________________________________________________\n"
     ]
    }
   ],
   "source": [
    "tf.keras.backend.clear_session()\n",
    "model = get_model()\n",
    "model.summary()"
   ]
  },
  {
   "cell_type": "markdown",
   "id": "cead73cc",
   "metadata": {},
   "source": [
    "This is how we copy model to a new model with same initial weights. Note that the optimizer state will not be copied (but it's not important for our usecase). \n",
    "\n",
    "Reference: https://github.com/keras-team/keras/issues/1765#issuecomment-367235276"
   ]
  },
  {
   "cell_type": "code",
   "execution_count": 4,
   "id": "a4148afa",
   "metadata": {},
   "outputs": [],
   "source": [
    "model_copy = tf.keras.models.clone_model(model)\n",
    "model_copy.set_weights(model.get_weights())"
   ]
  },
  {
   "cell_type": "code",
   "execution_count": 5,
   "id": "012c41eb",
   "metadata": {},
   "outputs": [
    {
     "data": {
      "text/plain": [
       "[array([[ 0.4656961 ,  0.15759563,  0.6949961 ],\n",
       "        [ 0.32020545, -0.42861724,  0.5538626 ],\n",
       "        [ 0.05646205, -0.7538266 ,  0.17306066]], dtype=float32),\n",
       " array([0., 0., 0.], dtype=float32),\n",
       " array([[-0.34945416, -0.36945963, -0.08475637],\n",
       "        [ 0.42724228,  0.7825148 , -0.00794744],\n",
       "        [-0.1974678 , -0.67979026, -0.25060534]], dtype=float32),\n",
       " array([0., 0., 0.], dtype=float32)]"
      ]
     },
     "execution_count": 5,
     "metadata": {},
     "output_type": "execute_result"
    }
   ],
   "source": [
    "model.get_weights()"
   ]
  },
  {
   "cell_type": "code",
   "execution_count": 6,
   "id": "8651bff4",
   "metadata": {},
   "outputs": [
    {
     "data": {
      "text/plain": [
       "[array([[ 0.4656961 ,  0.15759563,  0.6949961 ],\n",
       "        [ 0.32020545, -0.42861724,  0.5538626 ],\n",
       "        [ 0.05646205, -0.7538266 ,  0.17306066]], dtype=float32),\n",
       " array([0., 0., 0.], dtype=float32),\n",
       " array([[-0.34945416, -0.36945963, -0.08475637],\n",
       "        [ 0.42724228,  0.7825148 , -0.00794744],\n",
       "        [-0.1974678 , -0.67979026, -0.25060534]], dtype=float32),\n",
       " array([0., 0., 0.], dtype=float32)]"
      ]
     },
     "execution_count": 6,
     "metadata": {},
     "output_type": "execute_result"
    }
   ],
   "source": [
    "model_copy.get_weights()"
   ]
  },
  {
   "cell_type": "code",
   "execution_count": 7,
   "id": "163014ae",
   "metadata": {},
   "outputs": [
    {
     "name": "stdout",
     "output_type": "stream",
     "text": [
      "True\n",
      "True\n",
      "True\n",
      "True\n"
     ]
    }
   ],
   "source": [
    "for w, w_copy in zip(model.get_weights(), model_copy.get_weights()):\n",
    "    print(np.array_equal(w, w_copy))"
   ]
  },
  {
   "cell_type": "markdown",
   "id": "db91edf6",
   "metadata": {},
   "source": [
    "Unfortunately this only works with Sequential or Functional model and not Subclassed model.\n",
    "\n",
    "It will give this error: ```ValueError: Expected `model` argument to be a functional `Model` instance, but got a subclassed model instead:```"
   ]
  },
  {
   "cell_type": "code",
   "execution_count": 14,
   "id": "80245ee9",
   "metadata": {},
   "outputs": [],
   "source": [
    "class SubclassedModel(tf.keras.Model):\n",
    "    def __init__(self):\n",
    "        super(SubclassedModel, self).__init__()\n",
    "        self.hidden = layers.Dense(3, activation=\"gelu\")\n",
    "        self.outputs = layers.Dense(3, activation=\"sigmoid\")\n",
    "        \n",
    "    def call(self, inputs):\n",
    "        x = self.hidden(inputs)\n",
    "        x = self.outputs(x)\n",
    "        \n",
    "        return x"
   ]
  },
  {
   "cell_type": "code",
   "execution_count": 24,
   "id": "f55ce82b",
   "metadata": {},
   "outputs": [
    {
     "name": "stdout",
     "output_type": "stream",
     "text": [
      "Model: \"subclassed_model\"\n",
      "_________________________________________________________________\n",
      " Layer (type)                Output Shape              Param #   \n",
      "=================================================================\n",
      " dense (Dense)               multiple                  12        \n",
      "                                                                 \n",
      " dense_1 (Dense)             multiple                  12        \n",
      "                                                                 \n",
      "=================================================================\n",
      "Total params: 24\n",
      "Trainable params: 24\n",
      "Non-trainable params: 0\n",
      "_________________________________________________________________\n"
     ]
    }
   ],
   "source": [
    "tf.keras.backend.clear_session()\n",
    "model = SubclassedModel()\n",
    "\n",
    "model.build(input_shape=(1, 3))\n",
    "model.summary()"
   ]
  },
  {
   "cell_type": "markdown",
   "id": "9f39b58f",
   "metadata": {},
   "source": [
    "> The created Subclassed model is same the one we created using Functional APIs."
   ]
  },
  {
   "cell_type": "code",
   "execution_count": 40,
   "id": "6ae979a1",
   "metadata": {},
   "outputs": [
    {
     "data": {
      "text/plain": [
       "[]"
      ]
     },
     "execution_count": 40,
     "metadata": {},
     "output_type": "execute_result"
    }
   ],
   "source": [
    "tf.keras.backend.clear_session()\n",
    "model = SubclassedModel()\n",
    "\n",
    "model.get_weights()"
   ]
  },
  {
   "cell_type": "markdown",
   "id": "735b9471",
   "metadata": {},
   "source": [
    "> Just initializing a subclassed model will not initialize the weights. Which makes sense since the input shape is required."
   ]
  },
  {
   "cell_type": "code",
   "execution_count": 41,
   "id": "2ac0d502",
   "metadata": {},
   "outputs": [
    {
     "data": {
      "text/plain": [
       "[array([[-0.8726375 , -0.351403  ,  0.21757174],\n",
       "        [ 0.93361306, -0.7142036 ,  0.87285376],\n",
       "        [-0.74052906,  0.9485116 ,  0.73050404]], dtype=float32),\n",
       " array([0., 0., 0.], dtype=float32),\n",
       " array([[-0.61596346,  0.28087306,  0.66120934],\n",
       "        [ 0.7427747 , -0.58226514, -0.897063  ],\n",
       "        [ 0.2804525 ,  0.35987568, -0.734334  ]], dtype=float32),\n",
       " array([0., 0., 0.], dtype=float32)]"
      ]
     },
     "execution_count": 41,
     "metadata": {},
     "output_type": "execute_result"
    }
   ],
   "source": [
    "model.build(input_shape=(1, 3))\n",
    "model.get_weights()"
   ]
  },
  {
   "cell_type": "markdown",
   "id": "f624f7d7",
   "metadata": {},
   "source": [
    "> Maybe we can build a `model_copy`, build it and set the weights from original model."
   ]
  },
  {
   "cell_type": "code",
   "execution_count": 44,
   "id": "fa3f1ef4",
   "metadata": {},
   "outputs": [],
   "source": [
    "model_copy = SubclassedModel()\n",
    "model_copy.build(input_shape=(1, 3))"
   ]
  },
  {
   "cell_type": "code",
   "execution_count": 45,
   "id": "2fbbeaed",
   "metadata": {},
   "outputs": [],
   "source": [
    "model_copy.set_weights(model.get_weights())"
   ]
  },
  {
   "cell_type": "code",
   "execution_count": 84,
   "id": "a7cc1617",
   "metadata": {},
   "outputs": [
    {
     "name": "stdout",
     "output_type": "stream",
     "text": [
      "True\n",
      "True\n",
      "True\n",
      "True\n"
     ]
    }
   ],
   "source": [
    "for w, w_copy in zip(model.get_weights(), model_copy.get_weights()):\n",
    "    print(np.array_equal(w, w_copy))"
   ]
  },
  {
   "cell_type": "markdown",
   "id": "483b9462",
   "metadata": {},
   "source": [
    "> WORKS!"
   ]
  }
 ],
 "metadata": {
  "kernelspec": {
   "display_name": "Python 3 (ipykernel)",
   "language": "python",
   "name": "python3"
  },
  "language_info": {
   "codemirror_mode": {
    "name": "ipython",
    "version": 3
   },
   "file_extension": ".py",
   "mimetype": "text/x-python",
   "name": "python",
   "nbconvert_exporter": "python",
   "pygments_lexer": "ipython3",
   "version": "3.9.13"
  }
 },
 "nbformat": 4,
 "nbformat_minor": 5
}
