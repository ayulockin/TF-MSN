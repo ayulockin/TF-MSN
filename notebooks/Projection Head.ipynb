{
 "cells": [
  {
   "cell_type": "code",
   "execution_count": 27,
   "id": "971e5f60",
   "metadata": {},
   "outputs": [],
   "source": [
    "import os\n",
    "os.environ['TF_CPP_MIN_LOG_LEVEL'] = '3'\n",
    "\n",
    "import numpy as np\n",
    "\n",
    "import tensorflow as tf\n",
    "from tensorflow.keras import layers\n",
    "from tensorflow.keras import models\n",
    "\n",
    "import sys\n",
    "sys.path.insert(1, '../')\n",
    "from msn.model import get_model\n",
    "from configs.config import get_config"
   ]
  },
  {
   "cell_type": "code",
   "execution_count": 28,
   "id": "5aefaf8d",
   "metadata": {
    "scrolled": true
   },
   "outputs": [
    {
     "data": {
      "text/plain": [
       "callback_config:\n",
       "  checkpoint_filepath: wandb/model_{epoch}\n",
       "  early_patience: 6\n",
       "  rlrp_factor: 0.2\n",
       "  rlrp_patience: 3\n",
       "  save_best_only: true\n",
       "  use_earlystopping: true\n",
       "  use_reduce_lr_on_plateau: false\n",
       "  viz_num_images: 100\n",
       "dataset_config:\n",
       "  batch_size: 8\n",
       "  num_crops:\n",
       "  - 2\n",
       "  - 5\n",
       "  shuffle_buffer: 100\n",
       "  size_crops:\n",
       "  - 224\n",
       "  - 96\n",
       "  use_options: true\n",
       "model_config:\n",
       "  attention_probs_dropout_prob: 0.0\n",
       "  backbone: ViT\n",
       "  decoder_hidden_size: 512\n",
       "  decoder_intermediate_size: 2048\n",
       "  decoder_num_attention_heads: 16\n",
       "  decoder_num_hidden_layers: 8\n",
       "  dropout_rate: 0.5\n",
       "  hidden_act: gelu\n",
       "  hidden_dropout_prob: 0.0\n",
       "  hidden_size: 768\n",
       "  initializer_range: 0.02\n",
       "  intermediate_size: 3072\n",
       "  is_encoder_decoder: false\n",
       "  layer_norm_eps: 1.0e-12\n",
       "  mask_ratio: 0.75\n",
       "  model_img_channels: 3\n",
       "  model_img_height: 224\n",
       "  model_img_width: 224\n",
       "  norm_pix_loss: false\n",
       "  num_attention_heads: 12\n",
       "  num_channels: 3\n",
       "  num_hidden_layers: 12\n",
       "  patch_size: 16\n",
       "  post_gap_dropout: false\n",
       "  qkv_bias: true\n",
       "seed: 0\n",
       "train_config:\n",
       "  epochs: 3\n",
       "  loss: categorical_crossentropy\n",
       "  metrics:\n",
       "  - accuracy\n",
       "  optimizer: adam\n",
       "  sgd_momentum: 0.9\n",
       "  use_augmentations: false\n",
       "  use_class_weights: false\n",
       "wandb_config:\n",
       "  project: tf-msn"
      ]
     },
     "execution_count": 28,
     "metadata": {},
     "output_type": "execute_result"
    }
   ],
   "source": [
    "config = get_config()\n",
    "config"
   ]
  },
  {
   "cell_type": "code",
   "execution_count": 29,
   "id": "b4c046af",
   "metadata": {},
   "outputs": [],
   "source": [
    "tf.keras.backend.clear_session()\n",
    "model = get_model(config)"
   ]
  },
  {
   "cell_type": "code",
   "execution_count": 30,
   "id": "9fbe8803",
   "metadata": {},
   "outputs": [
    {
     "data": {
      "text/plain": [
       "<msn.model.encoder.TFViTMAEMainModel at 0x7f402e8e4670>"
      ]
     },
     "execution_count": 30,
     "metadata": {},
     "output_type": "execute_result"
    }
   ],
   "source": [
    "model"
   ]
  },
  {
   "cell_type": "code",
   "execution_count": 31,
   "id": "ae7970e5",
   "metadata": {},
   "outputs": [
    {
     "name": "stdout",
     "output_type": "stream",
     "text": [
      "(<tf.Tensor: shape=(8, 50, 768), dtype=float32, numpy=\n",
      "array([[[-0.57400256, -1.6440315 , -1.0521203 , ...,  1.1635206 ,\n",
      "         -0.5148284 , -0.36135522],\n",
      "        [-0.96005833, -1.0109295 , -0.4002926 , ...,  1.7490499 ,\n",
      "         -0.4647035 ,  0.14602873],\n",
      "        [ 0.01853287, -0.9749651 , -0.03791261, ...,  0.7811097 ,\n",
      "         -0.77030885,  0.10929209],\n",
      "        ...,\n",
      "        [-0.8161026 , -0.96734303, -0.7000211 , ...,  1.3471062 ,\n",
      "          0.5125636 ,  0.9819283 ],\n",
      "        [-0.8642162 , -1.2996521 , -0.42890722, ...,  0.9295301 ,\n",
      "         -0.04742081,  1.2941184 ],\n",
      "        [-0.30199286, -0.77637637,  0.2577251 , ...,  0.9801136 ,\n",
      "          0.08928126,  1.3520405 ]],\n",
      "\n",
      "       [[-0.60744596, -1.7376442 , -1.0225233 , ...,  1.2539926 ,\n",
      "         -0.59880984, -0.42464575],\n",
      "        [-1.1899664 , -1.2062316 , -1.2620187 , ...,  1.0863484 ,\n",
      "          0.5872282 ,  0.72593486],\n",
      "        [ 0.18264773, -0.29886714,  0.05705667, ...,  1.1849644 ,\n",
      "          0.35948834,  0.26277968],\n",
      "        ...,\n",
      "        [-0.9863696 , -0.73619473, -1.0178095 , ...,  0.79280126,\n",
      "          0.14150655,  1.7497375 ],\n",
      "        [ 0.1807704 , -0.4095278 , -0.26469234, ...,  1.3603756 ,\n",
      "         -0.6843363 , -0.04345641],\n",
      "        [-0.67653155, -0.9961346 , -1.0248609 , ...,  1.397886  ,\n",
      "          0.22606277,  0.82293665]],\n",
      "\n",
      "       [[-0.73398924, -1.7855546 , -0.99751866, ...,  1.3284177 ,\n",
      "         -0.739317  , -0.688507  ],\n",
      "        [-1.211305  , -2.6343374 , -1.6223203 , ...,  1.0644436 ,\n",
      "         -0.9512917 ,  0.8130145 ],\n",
      "        [-1.0480112 , -1.13014   , -0.9550533 , ...,  1.3595468 ,\n",
      "          0.6343063 ,  0.07612383],\n",
      "        ...,\n",
      "        [-0.3443304 , -0.15840405, -0.91622233, ...,  1.1891799 ,\n",
      "          0.46435064,  0.3193196 ],\n",
      "        [-0.51944995, -1.7906511 , -0.588494  , ...,  1.2607994 ,\n",
      "         -0.6724044 ,  0.93874866],\n",
      "        [-1.0112758 , -1.8719494 , -1.2302032 , ...,  1.0447507 ,\n",
      "         -0.7018254 , -0.04465488]],\n",
      "\n",
      "       ...,\n",
      "\n",
      "       [[-0.58107156, -1.7736849 , -1.1044956 , ...,  1.312686  ,\n",
      "         -0.7224135 , -0.4689178 ],\n",
      "        [ 0.1226182 , -0.48663414,  0.22143647, ...,  1.081382  ,\n",
      "          0.6425191 ,  1.6879451 ],\n",
      "        [ 0.34518573,  0.1106512 , -0.4087986 , ...,  1.6081775 ,\n",
      "         -0.09690732,  0.40170637],\n",
      "        ...,\n",
      "        [-0.8084067 , -1.1439749 , -0.8707305 , ...,  1.2513924 ,\n",
      "          0.6116997 ,  0.40496755],\n",
      "        [ 0.3260993 , -0.3896649 , -0.07496551, ...,  1.4762175 ,\n",
      "          0.04802626,  0.11927769],\n",
      "        [ 0.01331219, -0.9963529 , -0.38870895, ...,  0.66661096,\n",
      "         -0.54493624,  0.13267466]],\n",
      "\n",
      "       [[-0.7395761 , -1.6464334 , -1.0432003 , ...,  1.207718  ,\n",
      "         -0.6799841 , -0.30418685],\n",
      "        [-0.6678763 , -1.3255066 , -0.87297165, ...,  1.0065553 ,\n",
      "         -0.57987845,  0.5391108 ],\n",
      "        [-0.70316243, -0.78221047, -0.82937413, ...,  0.8998304 ,\n",
      "          0.56576043,  1.9168103 ],\n",
      "        ...,\n",
      "        [ 0.34786323,  0.61909056, -0.3369708 , ...,  0.9862933 ,\n",
      "          0.69610214,  1.9224014 ],\n",
      "        [-0.76541734, -1.6654873 , -1.12392   , ...,  0.71857315,\n",
      "         -0.32563493,  0.62225264],\n",
      "        [-0.49277097, -1.1769607 , -0.7934339 , ...,  1.638018  ,\n",
      "         -1.1106148 ,  0.41840357]],\n",
      "\n",
      "       [[-0.6359421 , -1.6742295 , -1.1927476 , ...,  1.3554418 ,\n",
      "         -0.7872629 , -0.22659078],\n",
      "        [-0.6222293 , -1.7912681 , -1.0506839 , ...,  1.0818548 ,\n",
      "         -1.1863918 ,  1.394566  ],\n",
      "        [-1.0104543 , -1.0248754 , -1.012552  , ...,  1.311643  ,\n",
      "          0.7862544 ,  0.5276345 ],\n",
      "        ...,\n",
      "        [-0.0335407 , -1.001872  , -0.45106274, ...,  0.7933372 ,\n",
      "         -0.2877418 ,  1.206426  ],\n",
      "        [-1.1867893 , -1.1698817 , -1.441338  , ...,  1.175004  ,\n",
      "         -0.54021853,  0.6896421 ],\n",
      "        [ 0.30141988, -0.8216387 , -0.33881587, ...,  0.99277735,\n",
      "         -0.9976119 ,  0.36705002]]], dtype=float32)>, <tf.Tensor: shape=(8, 196), dtype=float32, numpy=\n",
      "array([[0., 0., 1., ..., 1., 1., 1.],\n",
      "       [1., 0., 1., ..., 1., 1., 1.],\n",
      "       [0., 0., 0., ..., 1., 0., 1.],\n",
      "       ...,\n",
      "       [0., 0., 1., ..., 1., 1., 1.],\n",
      "       [1., 1., 1., ..., 1., 1., 1.],\n",
      "       [1., 0., 1., ..., 1., 1., 1.]], dtype=float32)>, <tf.Tensor: shape=(8, 196), dtype=int32, numpy=\n",
      "array([[  6,   9,  94, ...,  55, 127,  64],\n",
      "       [179,  41, 127, ...,  73, 156, 150],\n",
      "       [ 44,  25,  22, ..., 172,   2, 114],\n",
      "       ...,\n",
      "       [ 36,  15,  54, ..., 120,  51,  66],\n",
      "       [135, 187, 133, ..., 125, 193, 117],\n",
      "       [154,  36, 111, ..., 195,  96, 133]], dtype=int32)>)\n"
     ]
    }
   ],
   "source": [
    "pixel_values = tf.random.normal((8, 224, 224, 3))\n",
    "print(model(pixel_values=pixel_values))"
   ]
  },
  {
   "cell_type": "code",
   "execution_count": 32,
   "id": "b544ab09",
   "metadata": {},
   "outputs": [
    {
     "name": "stdout",
     "output_type": "stream",
     "text": [
      "Model: \"tf_vi_tmae_main_model\"\n",
      "_________________________________________________________________\n",
      " Layer (type)                Output Shape              Param #   \n",
      "=================================================================\n",
      " embeddings (ViTMAEEmbedding  multiple                 742656    \n",
      " s)                                                              \n",
      "                                                                 \n",
      " encoder (TFViTMAEEncoder)   multiple                  85054464  \n",
      "                                                                 \n",
      " layernorm (LayerNormalizati  multiple                 1536      \n",
      " on)                                                             \n",
      "                                                                 \n",
      "=================================================================\n",
      "Total params: 85,798,656\n",
      "Trainable params: 85,647,360\n",
      "Non-trainable params: 151,296\n",
      "_________________________________________________________________\n"
     ]
    }
   ],
   "source": [
    "model.summary()"
   ]
  },
  {
   "cell_type": "code",
   "execution_count": null,
   "id": "b1b9ee5b",
   "metadata": {},
   "outputs": [],
   "source": []
  }
 ],
 "metadata": {
  "kernelspec": {
   "display_name": "Python 3 (ipykernel)",
   "language": "python",
   "name": "python3"
  },
  "language_info": {
   "codemirror_mode": {
    "name": "ipython",
    "version": 3
   },
   "file_extension": ".py",
   "mimetype": "text/x-python",
   "name": "python",
   "nbconvert_exporter": "python",
   "pygments_lexer": "ipython3",
   "version": "3.9.13"
  }
 },
 "nbformat": 4,
 "nbformat_minor": 5
}
