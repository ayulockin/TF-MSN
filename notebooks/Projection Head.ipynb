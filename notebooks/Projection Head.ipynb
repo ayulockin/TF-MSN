{
 "cells": [
  {
   "cell_type": "code",
   "execution_count": 8,
   "id": "971e5f60",
   "metadata": {},
   "outputs": [],
   "source": [
    "import os\n",
    "os.environ['TF_CPP_MIN_LOG_LEVEL'] = '3'\n",
    "\n",
    "import numpy as np\n",
    "\n",
    "import tensorflow as tf\n",
    "from tensorflow.keras import layers\n",
    "from tensorflow.keras import models\n",
    "\n",
    "import sys\n",
    "sys.path.insert(1, '../')\n",
    "from msn.model import get_model\n",
    "from configs.config import get_config"
   ]
  },
  {
   "cell_type": "code",
   "execution_count": 16,
   "id": "2fe025cb",
   "metadata": {
    "scrolled": true
   },
   "outputs": [
    {
     "data": {
      "text/plain": [
       "callback_config:\n",
       "  checkpoint_filepath: wandb/model_{epoch}\n",
       "  early_patience: 6\n",
       "  rlrp_factor: 0.2\n",
       "  rlrp_patience: 3\n",
       "  save_best_only: true\n",
       "  use_earlystopping: true\n",
       "  use_reduce_lr_on_plateau: false\n",
       "  viz_num_images: 100\n",
       "dataset_config:\n",
       "  batch_size: 8\n",
       "  num_crops:\n",
       "  - 2\n",
       "  - 5\n",
       "  shuffle_buffer: 100\n",
       "  size_crops:\n",
       "  - 224\n",
       "  - 96\n",
       "  use_options: true\n",
       "model_config:\n",
       "  attention_probs_dropout_prob: 0.0\n",
       "  backbone: ViT\n",
       "  decoder_hidden_size: 512\n",
       "  decoder_intermediate_size: 2048\n",
       "  decoder_num_attention_heads: 16\n",
       "  decoder_num_hidden_layers: 8\n",
       "  dropout_rate: 0.5\n",
       "  hidden_act: gelu\n",
       "  hidden_dropout_prob: 0.0\n",
       "  hidden_size: 768\n",
       "  initializer_range: 0.02\n",
       "  intermediate_size: 3072\n",
       "  is_encoder_decoder: false\n",
       "  layer_norm_eps: 1.0e-12\n",
       "  mask_ratio: 0.75\n",
       "  model_img_channels: 3\n",
       "  model_img_height: 224\n",
       "  model_img_width: 224\n",
       "  norm_pix_loss: false\n",
       "  num_attention_heads: 12\n",
       "  num_channels: 3\n",
       "  num_hidden_layers: 12\n",
       "  patch_size: 16\n",
       "  post_gap_dropout: false\n",
       "  qkv_bias: true\n",
       "seed: 0\n",
       "train_config:\n",
       "  epochs: 3\n",
       "  loss: categorical_crossentropy\n",
       "  metrics:\n",
       "  - accuracy\n",
       "  optimizer: adam\n",
       "  sgd_momentum: 0.9\n",
       "  use_augmentations: false\n",
       "  use_class_weights: false\n",
       "wandb_config:\n",
       "  project: tf-msn"
      ]
     },
     "execution_count": 16,
     "metadata": {},
     "output_type": "execute_result"
    }
   ],
   "source": [
    "config = get_config()\n",
    "config"
   ]
  },
  {
   "cell_type": "code",
   "execution_count": 17,
   "id": "57fd786a",
   "metadata": {},
   "outputs": [],
   "source": [
    "tf.keras.backend.clear_session()\n",
    "model = get_model(config)"
   ]
  },
  {
   "cell_type": "code",
   "execution_count": 18,
   "id": "88f829ae",
   "metadata": {},
   "outputs": [
    {
     "data": {
      "text/plain": [
       "<msn.model.encoder.TFViTMAEMainModel at 0x7f402e8e4160>"
      ]
     },
     "execution_count": 18,
     "metadata": {},
     "output_type": "execute_result"
    }
   ],
   "source": [
    "model"
   ]
  },
  {
   "cell_type": "code",
   "execution_count": 24,
   "id": "96c552a1",
   "metadata": {},
   "outputs": [
    {
     "name": "stdout",
     "output_type": "stream",
     "text": [
      "(<tf.Tensor: shape=(8, 50, 768), dtype=float32, numpy=\n",
      "array([[[-1.3337277 , -0.36170658, -0.24928866, ...,  0.566708  ,\n",
      "          0.30504584,  0.18290684],\n",
      "        [-1.4670463 , -0.47795087, -0.8266787 , ...,  1.3091518 ,\n",
      "         -0.9643258 , -0.3065158 ],\n",
      "        [-0.28448457, -0.6741753 , -1.3182832 , ...,  0.55855024,\n",
      "         -0.90546083, -0.44181138],\n",
      "        ...,\n",
      "        [ 0.28519922,  0.83283454,  0.3355648 , ...,  0.12044197,\n",
      "          0.3204322 ,  0.14033014],\n",
      "        [-0.30329543, -0.03886554, -1.0101507 , ...,  1.166146  ,\n",
      "         -0.65142083, -0.7088371 ],\n",
      "        [-0.3351615 ,  0.55325973, -0.3631666 , ...,  1.0405645 ,\n",
      "         -1.3863213 , -0.44821632]],\n",
      "\n",
      "       [[-1.4187552 , -0.23415688, -0.44320905, ...,  0.39510465,\n",
      "          0.3662171 ,  0.03615766],\n",
      "        [-0.6061038 ,  0.3353727 , -0.8856694 , ...,  0.6923131 ,\n",
      "         -0.14381096, -0.22352023],\n",
      "        [ 0.2560666 ,  0.7859119 ,  0.25260773, ...,  0.30878803,\n",
      "          0.07023957, -0.18060163],\n",
      "        ...,\n",
      "        [-0.6335394 ,  0.5697935 , -0.4276061 , ...,  1.5175067 ,\n",
      "         -1.210268  , -0.5263996 ],\n",
      "        [-0.42464495, -0.32076344, -1.121868  , ...,  1.1161214 ,\n",
      "         -0.75223744, -0.9545407 ],\n",
      "        [-0.9393423 , -0.13423492, -1.0629251 , ...,  1.0686308 ,\n",
      "         -0.61410964,  0.07168138]],\n",
      "\n",
      "       [[-1.4233079 , -0.2540015 , -0.35402253, ...,  0.34353155,\n",
      "          0.3775954 , -0.01663716],\n",
      "        [-1.4679146 , -0.35991323, -0.8698463 , ...,  1.2281923 ,\n",
      "         -0.898613  , -0.1920606 ],\n",
      "        [-0.00990945,  0.47160736, -1.4999942 , ...,  0.6830727 ,\n",
      "          0.04286262, -0.29230833],\n",
      "        ...,\n",
      "        [-0.34861386,  0.92480624, -0.44171014, ...,  1.0280585 ,\n",
      "         -0.8674532 , -0.60301566],\n",
      "        [ 0.24118108,  0.7921907 ,  0.6129863 , ...,  0.62585354,\n",
      "         -0.2686206 , -0.4645298 ],\n",
      "        [ 0.07984245,  0.5169338 , -0.3740498 , ...,  0.9655144 ,\n",
      "          0.79687583,  0.363786  ]],\n",
      "\n",
      "       ...,\n",
      "\n",
      "       [[-1.408241  , -0.3676116 , -0.31252447, ...,  0.5345462 ,\n",
      "          0.3459149 ,  0.14562634],\n",
      "        [-0.3210353 ,  0.40237573, -0.58306575, ...,  0.6340618 ,\n",
      "         -0.53981215,  0.15209824],\n",
      "        [-0.6840639 , -0.5597293 , -1.3948276 , ...,  0.93919945,\n",
      "         -0.22324204,  0.10475367],\n",
      "        ...,\n",
      "        [-0.43453842,  0.96477723, -0.50843114, ...,  0.80100214,\n",
      "         -0.61148834,  0.36244676],\n",
      "        [-0.8358989 , -0.37474424, -1.1936522 , ...,  0.7531936 ,\n",
      "         -0.6900507 ,  0.16895154],\n",
      "        [-1.5992602 , -0.32900882, -0.9826858 , ...,  1.591077  ,\n",
      "         -0.62715054, -0.03062543]],\n",
      "\n",
      "       [[-1.3517897 , -0.31911188, -0.3338353 , ...,  0.62936974,\n",
      "          0.18809555,  0.2405769 ],\n",
      "        [-0.15194733, -0.42438954, -1.6983263 , ...,  0.5769657 ,\n",
      "         -0.6162361 , -0.08116464],\n",
      "        [-0.36360368, -0.6376548 , -1.4243968 , ...,  0.5021142 ,\n",
      "         -0.9222367 , -0.54480267],\n",
      "        ...,\n",
      "        [-0.1033209 ,  0.30073333, -0.31602007, ...,  0.5978963 ,\n",
      "         -0.32238853, -0.10183245],\n",
      "        [-1.0083332 , -0.4641549 , -1.5141082 , ...,  1.4679525 ,\n",
      "         -0.78490436,  0.31233567],\n",
      "        [ 0.05336177,  0.5229646 , -0.67492914, ...,  0.6009731 ,\n",
      "         -0.36095914,  0.01796684]],\n",
      "\n",
      "       [[-1.4421803 , -0.3088048 , -0.46521202, ...,  0.5526939 ,\n",
      "          0.30206767,  0.05860106],\n",
      "        [-1.0723661 , -0.31545186, -1.4634258 , ...,  1.0278654 ,\n",
      "         -0.622763  , -0.5420174 ],\n",
      "        [ 0.22921786,  1.2828746 ,  0.45042458, ...,  1.061731  ,\n",
      "          0.34174624, -0.16466844],\n",
      "        ...,\n",
      "        [-1.2222875 , -0.1231149 , -0.7320533 , ...,  1.5163455 ,\n",
      "         -1.4918307 , -0.51767105],\n",
      "        [ 0.02550828,  0.7987138 ,  0.5806049 , ...,  1.0220491 ,\n",
      "         -0.20060864, -0.4902414 ],\n",
      "        [ 0.035716  ,  1.3246158 ,  0.4733664 , ...,  0.8124213 ,\n",
      "          0.7098414 ,  0.12746367]]], dtype=float32)>, <tf.Tensor: shape=(8, 196), dtype=float32, numpy=\n",
      "array([[0., 0., 1., ..., 1., 0., 0.],\n",
      "       [1., 0., 1., ..., 1., 1., 0.],\n",
      "       [0., 1., 1., ..., 1., 1., 1.],\n",
      "       ...,\n",
      "       [0., 1., 1., ..., 1., 1., 1.],\n",
      "       [1., 1., 1., ..., 0., 0., 1.],\n",
      "       [1., 0., 1., ..., 0., 1., 1.]], dtype=float32)>, <tf.Tensor: shape=(8, 196), dtype=int32, numpy=\n",
      "array([[  9,  37, 178, ..., 133,  39,  24],\n",
      "       [ 99,  21,  98, ..., 186, 118,  29],\n",
      "       [  5,  58,  79, ..., 152, 128, 136],\n",
      "       ...,\n",
      "       [ 41,  98, 186, ..., 102, 154,  79],\n",
      "       [113,  77, 187, ...,   7,  18, 101],\n",
      "       [126,  48, 173, ...,  19,  92,  72]], dtype=int32)>)\n"
     ]
    }
   ],
   "source": [
    "pixel_values = tf.random.normal((8, 224, 224, 3))\n",
    "print(model(pixel_values=pixel_values))"
   ]
  },
  {
   "cell_type": "code",
   "execution_count": 22,
   "id": "3d0f0a36",
   "metadata": {},
   "outputs": [
    {
     "name": "stdout",
     "output_type": "stream",
     "text": [
      "Model: \"tf_vi_tmae_main_model\"\n",
      "_________________________________________________________________\n",
      " Layer (type)                Output Shape              Param #   \n",
      "=================================================================\n",
      " embeddings (ViTMAEEmbedding  multiple                 742656    \n",
      " s)                                                              \n",
      "                                                                 \n",
      " encoder (TFViTMAEEncoder)   multiple                  85054464  \n",
      "                                                                 \n",
      " layernorm (LayerNormalizati  multiple                 1536      \n",
      " on)                                                             \n",
      "                                                                 \n",
      "=================================================================\n",
      "Total params: 85,798,656\n",
      "Trainable params: 85,647,360\n",
      "Non-trainable params: 151,296\n",
      "_________________________________________________________________\n"
     ]
    }
   ],
   "source": [
    "model.summary()"
   ]
  },
  {
   "cell_type": "code",
   "execution_count": null,
   "id": "e156865b",
   "metadata": {},
   "outputs": [],
   "source": []
  }
 ],
 "metadata": {
  "kernelspec": {
   "display_name": "Python 3 (ipykernel)",
   "language": "python",
   "name": "python3"
  },
  "language_info": {
   "codemirror_mode": {
    "name": "ipython",
    "version": 3
   },
   "file_extension": ".py",
   "mimetype": "text/x-python",
   "name": "python",
   "nbconvert_exporter": "python",
   "pygments_lexer": "ipython3",
   "version": "3.9.13"
  }
 },
 "nbformat": 4,
 "nbformat_minor": 5
}
