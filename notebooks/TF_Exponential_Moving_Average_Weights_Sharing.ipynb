{
  "nbformat": 4,
  "nbformat_minor": 0,
  "metadata": {
    "colab": {
      "name": "TF Exponential Moving Average Weights Sharing",
      "provenance": [],
      "collapsed_sections": [],
      "authorship_tag": "ABX9TyP4J+sDpqi/Wh1UgDyP/iq/",
      "include_colab_link": true
    },
    "kernelspec": {
      "name": "python3",
      "display_name": "Python 3"
    },
    "language_info": {
      "name": "python"
    }
  },
  "cells": [
    {
      "cell_type": "markdown",
      "metadata": {
        "id": "view-in-github",
        "colab_type": "text"
      },
      "source": [
        "<a href=\"https://colab.research.google.com/github/ayulockin/TF-MSN/blob/main/notebooks/TF_Exponential_Moving_Average_Weights_Sharing.ipynb\" target=\"_parent\"><img src=\"https://colab.research.google.com/assets/colab-badge.svg\" alt=\"Open In Colab\"/></a>"
      ]
    },
    {
      "cell_type": "code",
      "execution_count": 2,
      "metadata": {
        "id": "U6zqsHQbkE2D"
      },
      "outputs": [],
      "source": [
        "import tensorflow as tf\n",
        "from tensorflow.keras import layers\n",
        "from tensorflow.keras import models\n",
        "\n",
        "import numpy as np"
      ]
    },
    {
      "cell_type": "code",
      "source": [
        "x = np.random.randint(255, size=(100, 28, 28, 1)).astype(np.float32)\n",
        "y = np.random.randint(10, size=(100,)).astype(np.float32)\n",
        "\n",
        "x.shape, y.shape"
      ],
      "metadata": {
        "colab": {
          "base_uri": "https://localhost:8080/"
        },
        "id": "VV3nguv_lxOj",
        "outputId": "78b88295-eb26-431f-defe-fc9fe884860f"
      },
      "execution_count": 4,
      "outputs": [
        {
          "output_type": "execute_result",
          "data": {
            "text/plain": [
              "((100, 28, 28, 1), (100,))"
            ]
          },
          "metadata": {},
          "execution_count": 4
        }
      ]
    },
    {
      "cell_type": "code",
      "source": [
        "def build_anchor_model():\n",
        "    inputs = layers.Input(shape=(28, 28, 1))\n",
        "    x = layers.Conv2D(3, 3, activation=\"relu\")(inputs)\n",
        "    x = layers.GlobalAvgPool2D()(x)\n",
        "    classifier = layers.Dense(10, activation=\"softmax\")(x)\n",
        "\n",
        "    return models.Model(inputs, classifier, name=\"anchor_model\")\n",
        "\n",
        "def build_target_model():\n",
        "    inputs = layers.Input(shape=(28, 28, 1))\n",
        "    x = layers.Conv2D(3, 3, activation=\"relu\")(inputs)\n",
        "    x = layers.GlobalAvgPool2D()(x)\n",
        "    classifier = layers.Dense(10, activation=\"softmax\")(x)\n",
        "\n",
        "    return models.Model(inputs, classifier, name=\"target_model\")"
      ],
      "metadata": {
        "id": "WgyS7YkWkQnc"
      },
      "execution_count": 18,
      "outputs": []
    },
    {
      "cell_type": "code",
      "source": [
        "tf.keras.backend.clear_session()\n",
        "anchor_model = build_anchor_model()\n",
        "anchor_model.summary()"
      ],
      "metadata": {
        "colab": {
          "base_uri": "https://localhost:8080/"
        },
        "id": "w7lg29XrmsHa",
        "outputId": "7e07923d-88d0-40d9-db3a-6f58aa162592"
      },
      "execution_count": 27,
      "outputs": [
        {
          "output_type": "stream",
          "name": "stdout",
          "text": [
            "Model: \"anchor_model\"\n",
            "_________________________________________________________________\n",
            " Layer (type)                Output Shape              Param #   \n",
            "=================================================================\n",
            " input_1 (InputLayer)        [(None, 28, 28, 1)]       0         \n",
            "                                                                 \n",
            " conv2d (Conv2D)             (None, 26, 26, 3)         30        \n",
            "                                                                 \n",
            " global_average_pooling2d (G  (None, 3)                0         \n",
            " lobalAveragePooling2D)                                          \n",
            "                                                                 \n",
            " dense (Dense)               (None, 10)                40        \n",
            "                                                                 \n",
            "=================================================================\n",
            "Total params: 70\n",
            "Trainable params: 70\n",
            "Non-trainable params: 0\n",
            "_________________________________________________________________\n"
          ]
        }
      ]
    },
    {
      "cell_type": "code",
      "source": [
        "tf.keras.backend.clear_session()\n",
        "target_model = build_target_model()\n",
        "target_model.summary()"
      ],
      "metadata": {
        "colab": {
          "base_uri": "https://localhost:8080/"
        },
        "id": "Z9IH0AeFm5e1",
        "outputId": "412e32de-34bc-4c20-be4a-97f90dd5137a"
      },
      "execution_count": 20,
      "outputs": [
        {
          "output_type": "stream",
          "name": "stdout",
          "text": [
            "Model: \"target_model\"\n",
            "_________________________________________________________________\n",
            " Layer (type)                Output Shape              Param #   \n",
            "=================================================================\n",
            " input_1 (InputLayer)        [(None, 28, 28, 1)]       0         \n",
            "                                                                 \n",
            " conv2d (Conv2D)             (None, 26, 26, 3)         30        \n",
            "                                                                 \n",
            " global_average_pooling2d (G  (None, 3)                0         \n",
            " lobalAveragePooling2D)                                          \n",
            "                                                                 \n",
            " dense (Dense)               (None, 10)                40        \n",
            "                                                                 \n",
            "=================================================================\n",
            "Total params: 70\n",
            "Trainable params: 70\n",
            "Non-trainable params: 0\n",
            "_________________________________________________________________\n"
          ]
        }
      ]
    },
    {
      "cell_type": "code",
      "source": [
        "def siamese_network():\n",
        "    inputs = layers.Input(shape=(28,28,1))\n",
        "    # Init anchor model\n",
        "    anchor_model = build_anchor_model()\n",
        "    # Init target model without trainable params.\n",
        "    target_model = build_target_model()\n",
        "    target_model.trainable = False\n",
        "\n",
        "    z1 = anchor_model(inputs)\n",
        "    z2 = target_model(inputs)\n",
        "\n",
        "    return models.Model(inputs, outputs=[z1, z2])"
      ],
      "metadata": {
        "id": "bdcf2A2O4Wi3"
      },
      "execution_count": 70,
      "outputs": []
    },
    {
      "cell_type": "code",
      "source": [
        "model = siamese_network()\n",
        "model.summary()"
      ],
      "metadata": {
        "colab": {
          "base_uri": "https://localhost:8080/"
        },
        "id": "87nGkSEzCgmW",
        "outputId": "5f5acb17-af67-42dc-d154-57ff6a7a8c7e"
      },
      "execution_count": 73,
      "outputs": [
        {
          "output_type": "stream",
          "name": "stdout",
          "text": [
            "Model: \"model_3\"\n",
            "__________________________________________________________________________________________________\n",
            " Layer (type)                   Output Shape         Param #     Connected to                     \n",
            "==================================================================================================\n",
            " input_11 (InputLayer)          [(None, 28, 28, 1)]  0           []                               \n",
            "                                                                                                  \n",
            " anchor_model (Functional)      (None, 10)           70          ['input_11[0][0]']               \n",
            "                                                                                                  \n",
            " target_model (Functional)      (None, 10)           70          ['input_11[0][0]']               \n",
            "                                                                                                  \n",
            "==================================================================================================\n",
            "Total params: 140\n",
            "Trainable params: 70\n",
            "Non-trainable params: 70\n",
            "__________________________________________________________________________________________________\n"
          ]
        }
      ]
    },
    {
      "cell_type": "code",
      "source": [
        "model.compile(\n",
        "    optimizer='adam',\n",
        "    loss={\n",
        "        'anchor_model': 'sparse_categorical_crossentropy',\n",
        "        'target_model': 'sparse_categorical_crossentropy'\n",
        "    }\n",
        ")\n",
        "\n",
        "model.fit(x, y, epochs=10)"
      ],
      "metadata": {
        "colab": {
          "base_uri": "https://localhost:8080/"
        },
        "id": "Bb0cHX4xBrNi",
        "outputId": "130d0d77-6f3c-4b32-cc73-81a273457c73"
      },
      "execution_count": 72,
      "outputs": [
        {
          "output_type": "stream",
          "name": "stdout",
          "text": [
            "Epoch 1/10\n",
            "4/4 [==============================] - 1s 9ms/step - loss: 130.5201 - anchor_model_loss: 96.8079 - target_model_loss: 33.7122\n",
            "Epoch 2/10\n",
            "4/4 [==============================] - 0s 9ms/step - loss: 124.7629 - anchor_model_loss: 91.0507 - target_model_loss: 33.7122\n",
            "Epoch 3/10\n",
            "4/4 [==============================] - 0s 8ms/step - loss: 119.1330 - anchor_model_loss: 85.4208 - target_model_loss: 33.7122\n",
            "Epoch 4/10\n",
            "4/4 [==============================] - 0s 9ms/step - loss: 113.6204 - anchor_model_loss: 79.9082 - target_model_loss: 33.7122\n",
            "Epoch 5/10\n",
            "4/4 [==============================] - 0s 9ms/step - loss: 108.2178 - anchor_model_loss: 74.5056 - target_model_loss: 33.7122\n",
            "Epoch 6/10\n",
            "4/4 [==============================] - 0s 10ms/step - loss: 102.9128 - anchor_model_loss: 69.2006 - target_model_loss: 33.7122\n",
            "Epoch 7/10\n",
            "4/4 [==============================] - 0s 10ms/step - loss: 97.9094 - anchor_model_loss: 64.1971 - target_model_loss: 33.7122\n",
            "Epoch 8/10\n",
            "4/4 [==============================] - 0s 12ms/step - loss: 93.3958 - anchor_model_loss: 59.6836 - target_model_loss: 33.7122\n",
            "Epoch 9/10\n",
            "4/4 [==============================] - 0s 9ms/step - loss: 89.0633 - anchor_model_loss: 55.3510 - target_model_loss: 33.7122\n",
            "Epoch 10/10\n",
            "4/4 [==============================] - 0s 9ms/step - loss: 84.3858 - anchor_model_loss: 50.6736 - target_model_loss: 33.7122\n"
          ]
        },
        {
          "output_type": "execute_result",
          "data": {
            "text/plain": [
              "<keras.callbacks.History at 0x7f0d818543d0>"
            ]
          },
          "metadata": {},
          "execution_count": 72
        }
      ]
    },
    {
      "cell_type": "code",
      "source": [
        "class EMA(tf.keras.callbacks.Callback):\n",
        "    def __init__(self, decay=0.996):\n",
        "        super(EMA, self).__init__()\n",
        "        self.decay = decay\n",
        "\n",
        "        # Create an ExponentialMovingAverage object\n",
        "        self.ema = tf.train.ExponentialMovingAverage(decay=self.decay)\n",
        "\n",
        "    def on_train_begin(self, logs=None):\n",
        "        self.ema.apply(self.model.get_layer('anchor_model').trainable_variables)\n",
        "\n",
        "    def on_epoch_end(self, epoch, logs=None):\n",
        "        # Get exponential moving average of anchor model weights.\n",
        "        train_vars = self.model.get_layer('anchor_model').trainable_variables\n",
        "        averages = [self.ema.average(var) for var in train_vars]\n",
        "        \n",
        "        # Assign the average weights to target model\n",
        "        target_model_vars = self.model.get_layer('target_model').non_trainable_variables\n",
        "        assert len(target_model_vars) == len(averages)\n",
        "        for i, var in enumerate(target_model_vars):\n",
        "            var.assign(averages[i])"
      ],
      "metadata": {
        "id": "hZVID-XpCQ62"
      },
      "execution_count": 67,
      "outputs": []
    },
    {
      "cell_type": "code",
      "source": [
        "model.compile(\n",
        "    optimizer='adam',\n",
        "    loss={\n",
        "        'anchor_model': 'sparse_categorical_crossentropy',\n",
        "        'target_model': 'sparse_categorical_crossentropy'\n",
        "    }\n",
        ")\n",
        "\n",
        "model.fit(x, y, epochs=10, callbacks=[EMA()])"
      ],
      "metadata": {
        "colab": {
          "base_uri": "https://localhost:8080/"
        },
        "id": "G2grohgFFNei",
        "outputId": "53003eb5-c118-4224-8c8a-bccae4aa07e2"
      },
      "execution_count": 75,
      "outputs": [
        {
          "output_type": "stream",
          "name": "stdout",
          "text": [
            "Epoch 1/10\n",
            "4/4 [==============================] - 1s 12ms/step - loss: 316.9131 - anchor_model_loss: 119.7637 - target_model_loss: 197.1494\n",
            "Epoch 2/10\n",
            "4/4 [==============================] - 0s 9ms/step - loss: 234.7221 - anchor_model_loss: 112.9389 - target_model_loss: 121.7832\n",
            "Epoch 3/10\n",
            "4/4 [==============================] - 0s 9ms/step - loss: 228.4099 - anchor_model_loss: 106.6267 - target_model_loss: 121.7832\n",
            "Epoch 4/10\n",
            "4/4 [==============================] - 0s 9ms/step - loss: 222.1068 - anchor_model_loss: 100.3236 - target_model_loss: 121.7832\n",
            "Epoch 5/10\n",
            "4/4 [==============================] - 0s 9ms/step - loss: 216.0723 - anchor_model_loss: 94.2892 - target_model_loss: 121.7832\n",
            "Epoch 6/10\n",
            "4/4 [==============================] - 0s 9ms/step - loss: 210.4549 - anchor_model_loss: 88.6717 - target_model_loss: 121.7832\n",
            "Epoch 7/10\n",
            "4/4 [==============================] - 0s 9ms/step - loss: 205.0095 - anchor_model_loss: 83.2263 - target_model_loss: 121.7832\n",
            "Epoch 8/10\n",
            "4/4 [==============================] - 0s 9ms/step - loss: 199.8703 - anchor_model_loss: 78.0871 - target_model_loss: 121.7832\n",
            "Epoch 9/10\n",
            "4/4 [==============================] - 0s 9ms/step - loss: 195.0538 - anchor_model_loss: 73.2706 - target_model_loss: 121.7832\n",
            "Epoch 10/10\n",
            "4/4 [==============================] - 0s 9ms/step - loss: 190.4728 - anchor_model_loss: 68.6896 - target_model_loss: 121.7832\n"
          ]
        },
        {
          "output_type": "execute_result",
          "data": {
            "text/plain": [
              "<keras.callbacks.History at 0x7f0d7a32c750>"
            ]
          },
          "metadata": {},
          "execution_count": 75
        }
      ]
    },
    {
      "cell_type": "code",
      "source": [
        ""
      ],
      "metadata": {
        "id": "kSondKFAJtDG"
      },
      "execution_count": null,
      "outputs": []
    }
  ]
}